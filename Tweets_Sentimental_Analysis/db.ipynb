{
 "cells": [
  {
   "cell_type": "code",
   "execution_count": 9,
   "metadata": {},
   "outputs": [],
   "source": [
    "import sqlite3\n",
    "from sqlite3 import Error\n",
    "import pandas as pd"
   ]
  },
  {
   "cell_type": "code",
   "execution_count": 10,
   "metadata": {},
   "outputs": [],
   "source": [
    "DB_FILE_PATH = 'table_name.db'\n",
    "CSV_FILE_PATH = 'tweets.csv'"
   ]
  },
  {
   "cell_type": "code",
   "execution_count": 11,
   "metadata": {},
   "outputs": [],
   "source": [
    "def connect_to_db(db_file):\n",
    "    \"\"\"\n",
    "    Connect to an SQlite database, if db file does not exist it will be created\n",
    "    :param db_file: absolute or relative path of db file\n",
    "    :return: sqlite3 connection\n",
    "    \"\"\"\n",
    "    sqlite3_conn = None\n",
    "\n",
    "    try:\n",
    "        sqlite3_conn = sqlite3.connect(db_file)\n",
    "        return sqlite3_conn\n",
    "\n",
    "    except Error as err:\n",
    "        print(err)\n"
   ]
  },
  {
   "cell_type": "code",
   "execution_count": 12,
   "metadata": {},
   "outputs": [],
   "source": [
    "def insert_values_to_table(table_name, csv_file):\n",
    "    \"\"\"\n",
    "    Open a csv file with pandas, store its content in a pandas data frame, change the data frame headers to the table\n",
    "    column names and insert the data to the table\n",
    "    :param table_name: table name in the database to insert the data into\n",
    "    :param csv_file: path of the csv file to process\n",
    "    :return: None\n",
    "    \"\"\"\n",
    "\n",
    "    conn = connect_to_db(DB_FILE_PATH)\n",
    "\n",
    "    if conn is not None:\n",
    "        c = conn.cursor()\n",
    "\n",
    "        # Create table if it is not exist\n",
    "        c.execute('CREATE TABLE IF NOT EXISTS ' + table_name +\n",
    "                  '(username   TEXT,'\n",
    "                  'totaltweets        VARCHAR,'\n",
    "                  'retweetcount        VARCHAR,'\n",
    "                  'text        VARCHAR,'\n",
    "                  'hashtags  VARCHAR,'\n",
    "                  'analysis     VARCHAR)')\n",
    "\n",
    "        df = pd.read_csv(csv_file)\n",
    "        \n",
    "        df = pd.DataFrame(df)\n",
    "        cols = [2,3,4,5,6,7]\n",
    "        df = df[df.columns[cols]]\n",
    "        \n",
    "\n",
    "        df.columns = get_column_names_from_db_table(c, table_name)\n",
    "\n",
    "        df.to_sql(name=table_name, con=conn, if_exists='append', index=False)\n",
    "\n",
    "        conn.close()\n",
    "        print('SQL insert process finished')\n",
    "    else:\n",
    "        print('Connection to database failed')\n"
   ]
  },
  {
   "cell_type": "code",
   "execution_count": 13,
   "metadata": {},
   "outputs": [],
   "source": [
    "def get_column_names_from_db_table(sql_cursor, table_name):\n",
    "    \"\"\"\n",
    "    Scrape the column names from a database table to a list\n",
    "    :param sql_cursor: sqlite cursor\n",
    "    :param table_name: table name to get the column names from\n",
    "    :return: a list with table column names\n",
    "    \"\"\"\n",
    "\n",
    "    table_column_names = 'PRAGMA table_info(' + table_name + ');'\n",
    "    sql_cursor.execute(table_column_names)\n",
    "    table_column_names = sql_cursor.fetchall()\n",
    "\n",
    "    column_names = list()\n",
    "\n",
    "    for name in table_column_names:\n",
    "        column_names.append(name[1])\n",
    "\n",
    "    return column_names\n",
    "\n"
   ]
  },
  {
   "cell_type": "code",
   "execution_count": 14,
   "metadata": {},
   "outputs": [
    {
     "name": "stdout",
     "output_type": "stream",
     "text": [
      "SQL insert process finished\n",
      "done\n"
     ]
    }
   ],
   "source": [
    "if __name__ == '__main__':\n",
    "    insert_values_to_table('tweets', CSV_FILE_PATH)\n",
    "    print(\"done\")"
   ]
  },
  {
   "cell_type": "code",
   "execution_count": null,
   "metadata": {},
   "outputs": [],
   "source": []
  }
 ],
 "metadata": {
  "interpreter": {
   "hash": "1069201cbe72c1023964f41a521c555222fdb411446c31761e3b2ff0669e7b71"
  },
  "kernelspec": {
   "display_name": "Python 3.8.10 64-bit",
   "language": "python",
   "name": "python3"
  },
  "language_info": {
   "codemirror_mode": {
    "name": "ipython",
    "version": 3
   },
   "file_extension": ".py",
   "mimetype": "text/x-python",
   "name": "python",
   "nbconvert_exporter": "python",
   "pygments_lexer": "ipython3",
   "version": "3.8.10"
  },
  "orig_nbformat": 4
 },
 "nbformat": 4,
 "nbformat_minor": 2
}
